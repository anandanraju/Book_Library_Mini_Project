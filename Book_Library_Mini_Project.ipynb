{
 "cells": [
  {
   "cell_type": "markdown",
   "id": "a6c26b9d",
   "metadata": {},
   "source": [
    "# SQL PROJECT - BOOK LIBRARY MANAGEMENT\n",
    "\n",
    "A library management system is used to maintain library records. It tracks Publisher details, Book details,Library Branch details,Book borrower details,Book loan details,Book copies details & Book Author details and how many books are issued, or how many books have been returned or renewed or late fine charges, etc.\n",
    "\n",
    "Creator : Anandan Raju\\\n",
    "Platform : JupyterNotbook"
   ]
  },
  {
   "cell_type": "code",
   "execution_count": 1,
   "id": "2701e306",
   "metadata": {},
   "outputs": [
    {
     "name": "stdout",
     "output_type": "stream",
     "text": [
      "Data Base Created Successfully\n"
     ]
    }
   ],
   "source": [
    "import sqlite3\n",
    "file = sqlite3.connect('D:\\\\DBMS\\\\BookLibraryMiniProject.db')\n",
    "cursor = file.cursor()\n",
    "cursor.close()\n",
    "print('Data Base Created Successfully')"
   ]
  },
  {
   "cell_type": "code",
   "execution_count": 2,
   "id": "70b59202",
   "metadata": {},
   "outputs": [
    {
     "name": "stdout",
     "output_type": "stream",
     "text": [
      "Publisher_Table is created\n"
     ]
    }
   ],
   "source": [
    "file = sqlite3.connect('D:\\\\DBMS\\\\BookLibraryMiniProject.db')\n",
    "cursor = file.cursor()\n",
    "publisher_tbl = \"\"\"CREATE TABLE PUBLISHER_TABLE(\n",
    "                    PUBLISHER_NAME VARCHAR(100) PRIMARY KEY NOT NULL,\n",
    "                    PUBLISHER_ADDRESS VARCHAR(200) NOT NULL,\n",
    "                    PUBLISHER_PHONENUMBER VARCHAR(50) NOT NULL);\"\"\"\n",
    "cursor.execute(publisher_tbl)\n",
    "file.close\n",
    "print('Publisher_Table is created')"
   ]
  },
  {
   "cell_type": "code",
   "execution_count": 7,
   "id": "67c23438",
   "metadata": {
    "scrolled": true
   },
   "outputs": [
    {
     "name": "stdout",
     "output_type": "stream",
     "text": [
      "Book_Table is created\n"
     ]
    }
   ],
   "source": [
    "file = sqlite3.connect('D:\\\\DBMS\\\\BookLibraryMiniProject.db')\n",
    "cursor = file.cursor()\n",
    "book_tbl = \"\"\"CREATE TABLE BOOK_TABLE(\n",
    "                    BOOK_ID INT IDENTITY (1,1) PRIMARY KEY NOT NULL,\n",
    "                    BOOK_TITLE VARCHAR(100) NOT NULL,\n",
    "                    PUBLISHER_NAME VARCHAR(100),\n",
    "                    BOOK_PUBLISHER_NAME VARCHAR(100) NOT NULL,\n",
    "                    CONSTRAINT PUBLISHER_NAME FOREIGN KEY (PUBLISHER_NAME) REFERENCES PUBLISHER_TABLE(PUBLISHER_NAME) ON UPDATE CASCADE ON DELETE CASCADE);\"\"\"\n",
    "cursor.execute(book_tbl)\n",
    "cursor.execute(\"PRAGMA foreign_keys=1\")\n",
    "file.close\n",
    "print('Book_Table is created')"
   ]
  },
  {
   "cell_type": "code",
   "execution_count": 8,
   "id": "250ef45a",
   "metadata": {},
   "outputs": [
    {
     "name": "stdout",
     "output_type": "stream",
     "text": [
      "Library_Branch_Table is created\n"
     ]
    }
   ],
   "source": [
    "file = sqlite3.connect('D:\\\\DBMS\\\\BookLibraryMiniProject.db')\n",
    "cursor = file.cursor()\n",
    "library_branch_tbl = \"\"\"CREATE TABLE LIBRARY_BRANCH_TABLE(\n",
    "                    BRANCH_ID INT IDENTITY (1,1) PRIMARY KEY NOT NULL,\n",
    "                    BRANCH_NAME VARCHAR(100) NOT NULL,\n",
    "                    BRANCH_ADDRESS VARCHAR(200) NOT NULL);\"\"\"\n",
    "cursor.execute(library_branch_tbl)\n",
    "file.close\n",
    "print('Library_Branch_Table is created')"
   ]
  },
  {
   "cell_type": "code",
   "execution_count": 9,
   "id": "75b00afb",
   "metadata": {},
   "outputs": [
    {
     "name": "stdout",
     "output_type": "stream",
     "text": [
      "Borrower_Table created successfully\n"
     ]
    }
   ],
   "source": [
    "file = sqlite3.connect('D:\\\\DBMS\\\\BookLibraryMiniProject.db')\n",
    "cursor = file.cursor()\n",
    "borrower_tbl=\"\"\"CREATE TABLE BORROWER_TABLE(\n",
    "                    BORROWER_CARD_NO INT IDENTITY (100,1) PRIMARY KEY NOT NULL,\n",
    "                    BORROWER_NAME VARCHAR(100) NOT NULL,\n",
    "                    BORROW_ADDRESS VARCHAR(200) NOT NULL,\n",
    "                    BORROW_PHONE VARCHAR(50) NOT NULL);\"\"\"\n",
    "cursor.execute(borrower_tbl)\n",
    "file.close()\n",
    "print('Borrower_Table created successfully')"
   ]
  },
  {
   "cell_type": "code",
   "execution_count": 10,
   "id": "ef3c375c",
   "metadata": {},
   "outputs": [
    {
     "name": "stdout",
     "output_type": "stream",
     "text": [
      "Book_Loans_Table created successfully\n"
     ]
    }
   ],
   "source": [
    "file = sqlite3.connect('D:\\\\DBMS\\\\BookLibraryMiniProject.db')\n",
    "cursor = file.cursor()\n",
    "book_loans_tbl=\"\"\"CREATE TABLE BOOK_LOANS_TABLE(\n",
    "                    BOOK_LOANS_ID INT IDENTITY (1,1) PRIMARY KEY NOT NULL,\n",
    "                    BOOK_LOANS_BOOK_ID INT NOT NULL,\n",
    "                    BOOK_LOANS_BRANCH_ID INT NOT NULL,\n",
    "                    BOOK_LOANS_CARD_NO INT NOT NULL,\n",
    "                    BOOK_LOANS_DATAOUT VARCHAR(50) NOT NULL,\n",
    "                    BOOK_LOANS_DUEDATE VARCHAR(50) NOT NULL,\n",
    "                    BOOK_ID INT,\n",
    "                    BRANCH_ID INT, \n",
    "                    BORROWER_CARD_NO INT,\n",
    "                    CONSTRAINT BOOK_ID FOREIGN KEY (BOOK_ID) REFERENCES BOOK_TABLE(BOOK_ID) ON UPDATE CASCADE ON DELETE CASCADE,\n",
    "                    CONSTRAINT BRANCH_ID FOREIGN KEY (BRANCH_ID) REFERENCES LIBRARY_BRANCH_TABLE(BRANCH_ID) ON UPDATE CASCADE ON DELETE CASCADE,\n",
    "                    CONSTRAINT BORROWER_CARD_NO FOREIGN KEY (BORROWER_CARD_NO) REFERENCES BORROWER_TABLE(BORROWER_CARD_NO) ON UPDATE CASCADE ON DELETE CASCADE);\"\"\"\n",
    "cursor.execute(book_loans_tbl)\n",
    "cursor.execute(\"PRAGMA foreign_keys=3\")\n",
    "file.close\n",
    "print('Book_Loans_Table created successfully')"
   ]
  },
  {
   "cell_type": "code",
   "execution_count": 11,
   "id": "cfc432b4",
   "metadata": {},
   "outputs": [
    {
     "name": "stdout",
     "output_type": "stream",
     "text": [
      "Book_Copies_Table created successfully\n"
     ]
    }
   ],
   "source": [
    "file = sqlite3.connect('D:\\\\DBMS\\\\BookLibraryMiniProject.db')\n",
    "cursor = file.cursor()\n",
    "book_copies_tbl=\"\"\"CREATE TABLE BOOK_COPIES_TABLE(\n",
    "                    BOOK_COPIES_ID INT IDENTITY (1,1) PRIMARY KEY NOT NULL,\n",
    "                    BOOK_COPIES_BOOK_ID INT NOT NULL,\n",
    "                    BOOK_COPIES_BRANCH_ID INT NOT NULL,\n",
    "                    BOOK_COPIES_NO_OF_COPIES INT NOT NULL,\n",
    "                    BOOK_ID INT,\n",
    "                    BRANCH_ID INT, \n",
    "                    CONSTRAINT BOOK_ID FOREIGN KEY (BOOK_ID) REFERENCES BOOK_TABLE(BOOK_ID) ON UPDATE CASCADE ON DELETE CASCADE,\n",
    "                    CONSTRAINT BRANCH_ID FOREIGN KEY (BRANCH_ID) REFERENCES LIBRARY_BRANCH_TABLE(BRANCH_ID) ON UPDATE CASCADE ON DELETE CASCADE);\"\"\"\n",
    "cursor.execute(book_copies_tbl)\n",
    "cursor.execute(\"PRAGMA foreign_keys=2\")\n",
    "file.close()\n",
    "print('Book_Copies_Table created successfully')"
   ]
  },
  {
   "cell_type": "code",
   "execution_count": 12,
   "id": "fb7cd1e9",
   "metadata": {},
   "outputs": [
    {
     "name": "stdout",
     "output_type": "stream",
     "text": [
      "Book_Authors_Table created successfully\n"
     ]
    }
   ],
   "source": [
    "file = sqlite3.connect('D:\\\\DBMS\\\\BookLibraryMiniProject.db')\n",
    "cursor = file.cursor()\n",
    "book_authors_tbl=\"\"\"CREATE TABLE BOOK_AUTHORS_TABLE(\n",
    "                    BOOK_AUTHOR_ID INT IDENTITY (1,1) PRIMARY KEY NOT NULL,\n",
    "                    BOOK_AUTHORS_BOOK_ID INT NOT NULL,\n",
    "                    BOOK_AUTHORS_NAME VARCHAR(50) NOT NULL,\n",
    "                    BOOK_ID INT,\n",
    "                    CONSTRAINT BOOK_ID FOREIGN KEY (BOOK_ID) REFERENCES BOOK_TABLE(BOOK_ID) ON UPDATE CASCADE ON DELETE CASCADE);\"\"\"\n",
    "cursor.execute(book_authors_tbl)\n",
    "cursor.execute(\"PRAGMA foreign_keys=1\")\n",
    "file.close()\n",
    "print('Book_Authors_Table created successfully')"
   ]
  },
  {
   "cell_type": "code",
   "execution_count": 13,
   "id": "1d3a8972",
   "metadata": {},
   "outputs": [
    {
     "name": "stdout",
     "output_type": "stream",
     "text": [
      "Data Inserted in the Publisher Table successfully\n",
      "<sqlite3.Cursor object at 0x000001FC3908D110>\n"
     ]
    }
   ],
   "source": [
    "conn=sqlite3.connect(\"D:\\\\DBMS\\\\BookLibraryMiniProject.db\")\n",
    "cursor = conn.cursor()\n",
    "conn.execute(\n",
    "\"\"\"INSERT INTO PUBLISHER_TABLE ( PUBLISHER_NAME,PUBLISHER_ADDRESS,PUBLISHER_PHONENUMBER) \n",
    "    VALUES ('DAW Books','375 Hudson Street, New York, NY 10014','212-366-2000'),\n",
    "        ('Viking','375 Hudson Street, New York, NY 10014','212-366-2000'),\n",
    "        ('Signet Books','375 Hudson Street, New York, NY 10014','212-366-2000'),\n",
    "        ('Chilton Books','Not Available','Not Available'),\n",
    "        ('George Allen & Unwin','83 Alexander Ln, Crows Nest NSW 2065, Australia','+61-2-8425-0100'),\n",
    "        ('Alfred A. Knopf','The Knopf Doubleday Group Domestic Rights, 1745 Broadway, New York, NY 10019','212-940-7390'),\n",
    "        ('Bloomsbury','Bloomsbury Publishing Inc., 1385 Broadway, 5th Floor, New York, NY 10018','212-419-5300'),\n",
    "        ('Shinchosa','Oga Bldg. 8, 2-5-4 Sarugaku-cho, Chiyoda-ku, Tokyo 101-0064 Japan','+81-3-5577-6507'),\n",
    "        ('Harper and Row','HarperCollins Publishers, 195 Broadway, New York, NY 10007','212-207-7000'),\n",
    "        ('Pan Books','175 Fifth Avenue, New York, NY 10010','646-307-5745'),\n",
    "        ('Chalto & Windus','375 Hudson Street, New York, NY 10014','212-366-2000'),\n",
    "        ('Harcourt Brace Jovanovich','3 Park Ave, New York, NY 10016','212-420-5800'),\n",
    "        ('W.W. Norton',' W. W. Norton & Company, Inc., 500 Fifth Avenue, New York, New York 10110','212-354-5500'),\n",
    "        ('Scholastic','557 Broadway, New York, NY 10012','800-724-6527'),\n",
    "        ('Bantam','375 Hudson Street, New York, NY 10014','212-366-2000'),\n",
    "        ('Picador USA','175 Fifth Avenue, New York, NY 10010','646-307-5745')\"\"\")\n",
    "\n",
    "print('Data Inserted in the Publisher Table successfully')\n",
    "data=cursor.execute('''select * from PUBLISHER_TABLE''')\n",
    "print(data)\n",
    "conn.commit()\n",
    "conn.close()"
   ]
  },
  {
   "cell_type": "code",
   "execution_count": 23,
   "id": "ab1f9e59",
   "metadata": {},
   "outputs": [
    {
     "name": "stdout",
     "output_type": "stream",
     "text": [
      "Data Inserted in the Book Table successfully\n",
      "<sqlite3.Cursor object at 0x000001FC390F2500>\n"
     ]
    }
   ],
   "source": [
    "conn=sqlite3.connect(\"D:\\\\DBMS\\\\BookLibraryMiniProject.db\")\n",
    "cursor = conn.cursor()\n",
    "conn.execute(\n",
    "\"\"\"INSERT INTO BOOK_TABLE (BOOK_ID,BOOK_TITLE,BOOK_PUBLISHER_NAME) \n",
    "    VALUES ('1','The Name of the Wind', 'DAW Books'),\n",
    "        ('2','It', 'Viking'),\n",
    "        ('3','The Green Mile', 'Signet Books'),\n",
    "        ('4','Dune', 'Chilton Books'),\n",
    "        ('5','The Hobbit', 'George Allen & Unwin'),\n",
    "        ('6','Eragon', 'Alfred A. Knopf'),\n",
    "        ('7','A Wise Mans Fear', 'DAW Books'),\n",
    "        ('8','Harry Potter and the Philosophers Stone', 'Bloomsbury'),\n",
    "        ('9','Hard Boiled Wonderland and The End of the World', 'Shinchosa'),\n",
    "        ('10','The Giving Tree', 'Harper and Row'),\n",
    "        ('11','The Hitchhikers Guide to the Galaxy', 'Pan Books'),\n",
    "        ('12','Brave New World', 'Chalto & Windus'),\n",
    "        ('13','The Princess Bride', 'Harcourt Brace Jovanovich'),\n",
    "        ('14','Fight Club', 'W.W. Norton'),\n",
    "        ('15','Holes', 'Scholastic'),\n",
    "        ('16','Harry Potter and the Chamber of Secrets', 'Bloomsbury'),\n",
    "        ('17','Harry Potter and the Prisoner of Azkaban', 'Bloomsbury'),\n",
    "        ('18','The Fellowship of the Ring', 'George Allen & Unwin'),\n",
    "        ('19','A Game of Thrones', 'Bantam'),\n",
    "        ('20','The Lost Tribe', 'Picador USA');\"\"\")\n",
    "\n",
    "print('Data Inserted in the Book Table successfully')\n",
    "data=cursor.execute('''select * from BOOK_TABLE WHERE PUBLISHER_NAME = 'George Allen & Unwin' ''')\n",
    "print(data)\n",
    "conn.commit()\n",
    "conn.close()"
   ]
  },
  {
   "cell_type": "code",
   "execution_count": 25,
   "id": "6f2438c3",
   "metadata": {},
   "outputs": [
    {
     "name": "stdout",
     "output_type": "stream",
     "text": [
      "Data Inserted in the Library Branch Table successfully\n",
      "<sqlite3.Cursor object at 0x000001FC392236C0>\n"
     ]
    }
   ],
   "source": [
    "conn=sqlite3.connect(\"D:\\\\DBMS\\\\BookLibraryMiniProject.db\")\n",
    "cursor = conn.cursor()\n",
    "conn.execute(\n",
    "\"\"\"INSERT INTO LIBRARY_BRANCH_TABLE (BRANCH_ID,BRANCH_NAME,BRANCH_ADDRESS) \n",
    "    VALUES ('1A','Sharpstown','32 Corner Road, New York, NY 10012'),\n",
    "        ('2A','Central','491 3rd Street, New York, NY 10014'),\n",
    "        ('3A','Saline','40 State Street, Saline, MI 48176'),\n",
    "        ('4A','Ann Arbor','101 South University, Ann Arbor, MI 48104');\"\"\")\n",
    "\n",
    "print('Data Inserted in the Library Branch Table successfully')\n",
    "data=cursor.execute('''select * from LIBRARY_BRANCH_TABLE''')\n",
    "print(data)\n",
    "conn.commit()\n",
    "conn.close()"
   ]
  },
  {
   "cell_type": "code",
   "execution_count": 26,
   "id": "b9a6b292",
   "metadata": {},
   "outputs": [
    {
     "name": "stdout",
     "output_type": "stream",
     "text": [
      "Data Inserted in the Borrower Table successfully\n",
      "<sqlite3.Cursor object at 0x000001FC39223F80>\n"
     ]
    }
   ],
   "source": [
    "conn=sqlite3.connect(\"D:\\\\DBMS\\\\BookLibraryMiniProject.db\")\n",
    "cursor = conn.cursor()\n",
    "conn.execute(\n",
    "\"\"\"INSERT INTO BORROWER_TABLE (BORROWER_CARD_NO,BORROWER_NAME,BORROW_ADDRESS,BORROW_PHONE) \n",
    "    VALUES ('1001AB','Joe Smith','1321 4th Street, New York, NY 10014','212-312-1234'),\n",
    "        ('1002AB','Jane Smith','1321 4th Street, New York, NY 10014','212-931-4124'),\n",
    "        ('1003AB','Tom Li','981 Main Street, Ann Arbor, MI 48104','734-902-7455'),\n",
    "        ('1004AB','Angela Thompson','2212 Green Avenue, Ann Arbor, MI 48104','313-591-2122'),\n",
    "        ('1005AB','Harry Emnace','121 Park Drive, Ann Arbor, MI 48104','412-512-5522'),\n",
    "        ('1006AB','Tom Haverford','23 75th Street, New York, NY 10014','212-631-3418'),\n",
    "        ('1007AB','Haley Jackson','231 52nd Avenue New York, NY 10014','212-419-9935'),\n",
    "        ('1008AB','Michael Horford','653 Glen Avenue, Ann Arbor, MI 48104','734-998-1513');\"\"\")\n",
    "\n",
    "print('Data Inserted in the Borrower Table successfully')\n",
    "data=cursor.execute('''select * from BORROWER_TABLE''')\n",
    "print(data)\n",
    "conn.commit()\n",
    "conn.close()"
   ]
  },
  {
   "cell_type": "code",
   "execution_count": 27,
   "id": "e33278e2",
   "metadata": {},
   "outputs": [
    {
     "name": "stdout",
     "output_type": "stream",
     "text": [
      "Data Inserted in the Book Loans Table successfully\n",
      "<sqlite3.Cursor object at 0x000001FC392235E0>\n"
     ]
    }
   ],
   "source": [
    "conn=sqlite3.connect(\"D:\\\\DBMS\\\\BookLibraryMiniProject.db\")\n",
    "cursor = conn.cursor()\n",
    "conn.execute(\n",
    "\"\"\"INSERT INTO BOOK_LOANS_TABLE (BOOK_LOANS_ID,BOOK_LOANS_BOOK_ID,BOOK_LOANS_BRANCH_ID,BOOK_LOANS_CARD_NO,BOOK_LOANS_DATAOUT,BOOK_LOANS_DUEDATE) \n",
    "    VALUES ('1001AB','1','1','100','1/1/18','2/2/18'),\n",
    "        ('1002AB','2','1','100','1/1/18','2/2/18'),\n",
    "        ('1003AB','3','1','100','1/1/18','2/2/18'),\n",
    "        ('1004AB','4','1','100','1/1/18','2/2/18'),\n",
    "        ('1005AB','5','1','102','1/3/18','2/3/18'),\n",
    "        ('1006AB','6','1','102','1/3/18','2/3/18'),\n",
    "        ('1007AB','7','1','102','1/3/18','2/3/18'),\n",
    "        ('1008AB','8','1','102','1/3/18','2/3/18'),\n",
    "        ('1009AB','9','1','102','1/3/18','2/3/18'),\n",
    "        ('1010AB','11','1','102','1/3/18','2/3/18'),\n",
    "        ('1011AB','12','2','105','12/12/17','1/12/18'),\n",
    "        ('1012AB','10','2','105','12/12/17','1/12/17'),\n",
    "        ('1013AB','20','2','105','2/3/18','3/3/18'),\n",
    "        ('1014AB','18','2','105','1/5/18','2/5/18'),\n",
    "        ('1015AB','19','2','105','1/5/18','2/5/18'),\n",
    "        ('1016AB','19','2','100','1/3/18','2/3/18'),\n",
    "        ('1017AB','11','2','106','1/7/18','2/7/18'),\n",
    "        ('1018AB','1','2','106','1/7/18','2/7/18'),\n",
    "        ('1019AB','2','2','100','1/7/18','2/7/18'),\n",
    "        ('1020AB','3','2','100','1/7/18','2/7/18'),\n",
    "        ('1021AB','5','2','105','12/12/17','1/12/18'),\n",
    "        ('1022AB','4','3','103','1/9/18','2/9/18'),\n",
    "        ('1023AB','7','3','102','1/3/18','2/3/18'),\n",
    "        ('1024AB','17','3','102','1/3/18','2/3/18'),\n",
    "        ('1025AB','16','3','104','1/3/18','2/3/18'),\n",
    "        ('1026AB','15','3','104','1/3/18','2/3/18'),\n",
    "        ('1027AB','15','3','107','1/3/18','2/3/18'),\n",
    "        ('1028AB','14','3','104','1/3/18','2/3/18'),\n",
    "        ('1029AB','13','3','107','1/3/18','2/3/18'),\n",
    "        ('1030AB','13','3','102','1/3/18','2/3/18'),\n",
    "        ('1031AB','19','3','102','12/12/17','1/12/18'),\n",
    "        ('1032AB','20','4','103','1/3/18','2/3/18'),\n",
    "        ('1033AB','1','4','102','1/12/18','2/12/18'),\n",
    "        ('1034AB','3','4','107','1/3/18','2/3/18'),\n",
    "        ('1035AB','18','4','107','1/3/18','2/3/18'),\n",
    "        ('1036AB','12','4','102','1/4/18','2/4/18'),\n",
    "        ('1037AB','11','4','103','1/15/18','2/15/18'),\n",
    "        ('1038AB','9','4','103','1/15/18','2/15/18'),\n",
    "        ('1039AB','7','4','107','1/1/18','2/2/18'),\n",
    "        ('1040AB','4','4','103','1/1/18','2/2/18'),\n",
    "        ('1041AB','1','4','103','2/2/17','3/2/18'),\n",
    "        ('1042AB','20','4','103','1/3/18','2/3/18'),\n",
    "        ('1043AB','1','4','102','1/12/18','2/12/18'),\n",
    "        ('1044AB','3','4','107','1/13/18','2/13/18'),\n",
    "        ('1045AB','18','4','107','1/13/18','2/13/18'),\n",
    "        ('1046AB','12','4','102','1/14/18','2/14/18'),\n",
    "        ('1047AB','11','4','103','1/15/18','2/15/18'),\n",
    "        ('1048AB','9','4','103','1/15/18','2/15/18'),\n",
    "        ('1049AB','7','4','107','1/19/18','2/19/18'),\n",
    "        ('1051AB','4','4','103','1/19/18','2/19/18'),\n",
    "        ('1052AB','1','4','103','1/22/18','2/22/18');\"\"\")\n",
    "\n",
    "print('Data Inserted in the Book Loans Table successfully')\n",
    "data=cursor.execute('''select * from BOOK_LOANS_TABLE''')\n",
    "print(data)\n",
    "conn.commit()\n",
    "conn.close()"
   ]
  },
  {
   "cell_type": "code",
   "execution_count": 32,
   "id": "aae29c1a",
   "metadata": {},
   "outputs": [
    {
     "name": "stdout",
     "output_type": "stream",
     "text": [
      "Data Inserted in the Book Copies Table successfully\n",
      "<sqlite3.Cursor object at 0x000001FC392D5AB0>\n"
     ]
    }
   ],
   "source": [
    "conn=sqlite3.connect(\"D:\\\\DBMS\\\\BookLibraryMiniProject.db\")\n",
    "cursor = conn.cursor()\n",
    "conn.execute(\n",
    "\"\"\"INSERT INTO BOOK_COPIES_TABLE (BOOK_COPIES_ID,BOOK_COPIES_BOOK_ID,BOOK_COPIES_BRANCH_ID,BOOK_COPIES_NO_OF_COPIES) \n",
    "    VALUES ('1AA','1','1','5'),\n",
    "        ('1AB','2','1','5'),\n",
    "        ('2AC','3','1','5'),\n",
    "        ('3AD','4','1','5'),\n",
    "        ('4AE','5','1','5'),\n",
    "        ('5AF','6','1','5'),\n",
    "        ('6AG','7','1','5'),\n",
    "        ('7AH','8','1','5'),\n",
    "        ('8AI','9','1','5'),\n",
    "        ('9AJ','10','1','5'),\n",
    "        ('1AK','11','1','5'),\n",
    "        ('2AL','12','1','5'),\n",
    "        ('3AM','13','1','5'),\n",
    "        ('4AN','14','1','5'),\n",
    "        ('5AO','15','1','5'),\n",
    "        ('6AP','16','1','5'),\n",
    "        ('7AQ','17','1','5'),\n",
    "        ('8AR','18','1','5'),\n",
    "        ('9AS','19','1','5'),\n",
    "        ('1AT','20','1','5'),\n",
    "        ('2AU','1','2','5'),\n",
    "        ('3AV','2','2','5'),\n",
    "        ('4AW','3','2','5'),\n",
    "        ('5AX','4','2','5'),\n",
    "        ('6AY','5','2','5'),\n",
    "        ('7AZ','6','2','5'),\n",
    "        ('8BA','7','2','5'),\n",
    "        ('9BA','8','2','5'),\n",
    "        ('1BA','9','2','5'),\n",
    "        ('2BB','10','2','5'),\n",
    "        ('3BC','11','2','5'),\n",
    "        ('4BD','12','2','5'),\n",
    "        ('5BE','13','2','5'),\n",
    "        ('6BF','14','2','5'),\n",
    "        ('7BG','15','2','5'),\n",
    "        ('8BH','16','2','5'),\n",
    "        ('9BI','17','2','5'),\n",
    "        ('1BJ','18','2','5'),\n",
    "        ('2BK','19','2','5'),\n",
    "        ('3BL','20','2','5'),\n",
    "        ('4BM','1','3','5'),\n",
    "        ('5BN','2','3','5'),\n",
    "        ('6BO','3','3','5'),\n",
    "        ('7BP','4','3','5'),\n",
    "        ('8BQ','5','3','5'),\n",
    "        ('9BR','6','3','5'),\n",
    "        ('1BS','7','3','5'),\n",
    "        ('2BT','8','3','5'),\n",
    "        ('3BU','9','3','5'),\n",
    "        ('4BV','10','3','5'),\n",
    "        ('5BW','11','3','5'),\n",
    "        ('6BX','12','3','5'),\n",
    "        ('7BY','13','3','5'),\n",
    "        ('8BZ','14','3','5'),\n",
    "        ('9CA','15','3','5'),\n",
    "        ('1CB','16','3','5'),\n",
    "        ('2CC','17','3','5'),\n",
    "        ('3CD','18','3','5'),\n",
    "        ('4CE','19','3','5'),\n",
    "        ('5CF','20','3','5'),\n",
    "        ('6CG','1','4','5'),\n",
    "        ('7CH','2','4','5'),\n",
    "        ('8CI','3','4','5'),\n",
    "        ('9CJ','4','4','5'),\n",
    "        ('1CK','5','4','5'),\n",
    "        ('2CL','6','4','5'),\n",
    "        ('3CM','7','4','5'),\n",
    "        ('4CN','8','4','5'),\n",
    "        ('5CO','9','4','5'),\n",
    "        ('6CP','10','4','5'),\n",
    "        ('7CQ','11','4','5'),\n",
    "        ('8CR','12','4','5'),\n",
    "        ('9CS','13','4','5'),\n",
    "        ('1CT','14','4','5'),\n",
    "        ('2CU','15','4','5'),\n",
    "        ('3CV','16','4','5'),\n",
    "        ('4CW','17','4','5'),\n",
    "        ('5CX','18','4','5'),\n",
    "        ('6CY','19','4','5'),\n",
    "        ('7CZ','20','4','5');\"\"\")\n",
    "\n",
    "print('Data Inserted in the Book Copies Table successfully')\n",
    "data=cursor.execute('''select * from BOOK_COPIES_TABLE''')\n",
    "print(data)\n",
    "conn.commit()\n",
    "conn.close()"
   ]
  },
  {
   "cell_type": "code",
   "execution_count": 33,
   "id": "80943eb9",
   "metadata": {},
   "outputs": [
    {
     "name": "stdout",
     "output_type": "stream",
     "text": [
      "Data Inserted in the Book Authors Table successfully\n",
      "<sqlite3.Cursor object at 0x000001FC39282F10>\n"
     ]
    }
   ],
   "source": [
    "conn=sqlite3.connect(\"D:\\\\DBMS\\\\BookLibraryMiniProject.db\")\n",
    "cursor = conn.cursor()\n",
    "conn.execute(\n",
    "\"\"\"INSERT INTO BOOK_AUTHORS_TABLE (BOOK_AUTHOR_ID,BOOK_AUTHORS_BOOK_ID,BOOK_AUTHORS_NAME) \n",
    "    VALUES ('AI1','1','Patrick Rothfuss'),\n",
    "        ('AI01','2','Stephen King'),\n",
    "        ('AI02','3','Stephen King'),\n",
    "        ('AI03','4','Frank Herbert'),\n",
    "        ('AI04','5','J.R.R. Tolkien'),\n",
    "        ('AI05','6','Christopher Paolini'),\n",
    "        ('AI06','6','Patrick Rothfuss'),\n",
    "        ('AI07','8','J.K. Rowling'),\n",
    "        ('AI08','9','Haruki Murakami'),\n",
    "        ('AI09','10','Shel Silverstein'),\n",
    "        ('AI10','11','Douglas Adams'),\n",
    "        ('AI11','12','Aldous Huxley'),\n",
    "        ('AI12','13','William Goldman'),\n",
    "        ('AI13','14','Chuck Palahniuk'),\n",
    "        ('AI14','15','Louis Sachar'),\n",
    "        ('AI15','16','J.K. Rowling'),\n",
    "        ('AI16','17','J.K. Rowling'),\n",
    "        ('AI17','18','J.R.R. Tolkien'),\n",
    "        ('AI18','19','George R.R. Martin'),\n",
    "        ('AI19','20','Mark Lee');\"\"\")\n",
    "\n",
    "print('Data Inserted in the Book Authors Table successfully')\n",
    "data=cursor.execute('''select * from BOOK_AUTHORS_TABLE''')\n",
    "print(data)\n",
    "conn.commit()\n",
    "conn.close()"
   ]
  },
  {
   "cell_type": "code",
   "execution_count": null,
   "id": "a026b220",
   "metadata": {},
   "outputs": [],
   "source": []
  }
 ],
 "metadata": {
  "kernelspec": {
   "display_name": "Python 3 (ipykernel)",
   "language": "python",
   "name": "python3"
  },
  "language_info": {
   "codemirror_mode": {
    "name": "ipython",
    "version": 3
   },
   "file_extension": ".py",
   "mimetype": "text/x-python",
   "name": "python",
   "nbconvert_exporter": "python",
   "pygments_lexer": "ipython3",
   "version": "3.9.12"
  }
 },
 "nbformat": 4,
 "nbformat_minor": 5
}
